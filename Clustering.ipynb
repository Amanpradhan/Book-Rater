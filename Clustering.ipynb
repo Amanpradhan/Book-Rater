{
  "nbformat": 4,
  "nbformat_minor": 0,
  "metadata": {
    "colab": {
      "name": "Untitled2.ipynb",
      "version": "0.3.2",
      "views": {},
      "default_view": {},
      "provenance": []
    },
    "kernelspec": {
      "name": "python3",
      "display_name": "Python 3"
    },
    "accelerator": "GPU"
  },
  "cells": [
    {
      "metadata": {
        "id": "FvEt52EEeX6G",
        "colab_type": "code",
        "colab": {
          "autoexec": {
            "startup": false,
            "wait_interval": 0
          }
        }
      },
      "cell_type": "code",
      "source": [
        "from sklearn.linear_model import LogisticRegression\n",
        "from sklearn.feature_selection import RFE\n",
        "import pandas as pd\n",
        "import numpy as np"
      ],
      "execution_count": 0,
      "outputs": []
    },
    {
      "metadata": {
        "id": "lmk1BI-ReZIK",
        "colab_type": "code",
        "colab": {
          "autoexec": {
            "startup": false,
            "wait_interval": 0
          }
        }
      },
      "cell_type": "code",
      "source": [
        "df = pd.read_csv(\"drive/Processed_Dataset (1).csv\")\n",
        "cols = ['User-ID', 'Book-Title','Book-Author','Year-Of-Publication','Location','Age'] \n"
      ],
      "execution_count": 0,
      "outputs": []
    },
    {
      "metadata": {
        "id": "kthewFPwejjI",
        "colab_type": "code",
        "colab": {
          "autoexec": {
            "startup": false,
            "wait_interval": 0
          },
          "base_uri": "https://localhost:8080/",
          "height": 34
        },
        "outputId": "0e35b2d6-afdc-4b5b-f6ad-b97f70b37d72",
        "executionInfo": {
          "status": "ok",
          "timestamp": 1527708231710,
          "user_tz": -330,
          "elapsed": 72772,
          "user": {
            "displayName": "Aman Pradham",
            "photoUrl": "https://lh3.googleusercontent.com/a/default-user=s128",
            "userId": "103750579180603243774"
          }
        }
      },
      "cell_type": "code",
      "source": [
        "X = df[cols]\n",
        "y = df['Book-Rating']\n",
        "# Build a logreg and compute the feature importances\n",
        "model = LogisticRegression()\n",
        "# create the RFE model and select 8 attributes\n",
        "rfe = RFE(model, 8)\n",
        "rfe = rfe.fit(X, y)\n",
        "# summarize the selection of the attributes\n",
        "print('Selected features: %s' % list(X.columns[rfe.support_]))"
      ],
      "execution_count": 13,
      "outputs": [
        {
          "output_type": "stream",
          "text": [
            "Selected features: ['User-ID', 'Book-Title', 'Book-Author', 'Year-Of-Publication', 'Location', 'Age']\n"
          ],
          "name": "stdout"
        }
      ]
    },
    {
      "metadata": {
        "id": "GULEYbD5fevD",
        "colab_type": "code",
        "colab": {
          "autoexec": {
            "startup": false,
            "wait_interval": 0
          }
        }
      },
      "cell_type": "code",
      "source": [
        "from sklearn.model_selection import train_test_split\n",
        "\n",
        "X_all = df[cols]\n",
        "y_all = df['Book-Rating']\n",
        "\n",
        "num_test = 0.20\n",
        "X_train, X_test, y_train, y_test = train_test_split(X_all, y_all, test_size=num_test, random_state=23)"
      ],
      "execution_count": 0,
      "outputs": []
    },
    {
      "metadata": {
        "id": "PSgTvadRhDX1",
        "colab_type": "code",
        "colab": {
          "autoexec": {
            "startup": false,
            "wait_interval": 0
          }
        }
      },
      "cell_type": "code",
      "source": [
        "from sklearn.ensemble import RandomForestClassifier\n",
        "from sklearn.metrics import make_scorer, accuracy_score\n",
        "from sklearn.model_selection import GridSearchCV\n",
        "\n",
        "# Choose the type of classifier. \n",
        "clf = RandomForestClassifier()\n",
        "\n",
        "# Choose some parameter combinations to try\n",
        "parameters = {'n_estimators': [4, 6, 9], \n",
        "              'max_features': ['log2', 'sqrt','auto'], \n",
        "              'criterion': ['entropy', 'gini'],\n",
        "              'max_depth': [2, 3, 5, 10], \n",
        "              'min_samples_split': [2, 3, 5],\n",
        "              'min_samples_leaf': [1,5,8]\n",
        "             }\n",
        "\n",
        "# Type of scoring used to compare parameter combinations\n",
        "acc_scorer = make_scorer(accuracy_score)\n"
      ],
      "execution_count": 0,
      "outputs": []
    },
    {
      "metadata": {
        "id": "OIvjA-Nhhaby",
        "colab_type": "code",
        "colab": {
          "autoexec": {
            "startup": false,
            "wait_interval": 0
          }
        }
      },
      "cell_type": "code",
      "source": [
        "from sklearn.cross_validation import KFold\n",
        "\n",
        "def run_kfold(clf):\n",
        "    kf = KFold(891, n_folds=10)\n",
        "    outcomes = []\n",
        "    fold = 0\n",
        "    for train_index, test_index in kf:\n",
        "        fold += 1\n",
        "        X_train, X_test = X_all.values[train_index], X_all.values[test_index]\n",
        "        y_train, y_test = y_all.values[train_index], y_all.values[test_index]\n",
        "        clf.fit(X_train, y_train)\n",
        "        predictions = clf.predict(X_test)\n",
        "        accuracy = accuracy_score(y_test, predictions)\n",
        "        outcomes.append(accuracy)\n",
        "        print(\"Fold {0} accuracy: {1}\".format(fold, accuracy))     \n",
        "    mean_outcome = np.mean(outcomes)\n",
        "    print(\"Mean Accuracy: {0}\".format(mean_outcome)) "
      ],
      "execution_count": 0,
      "outputs": []
    },
    {
      "metadata": {
        "id": "m4UkPA_qn5Bv",
        "colab_type": "code",
        "colab": {
          "autoexec": {
            "startup": false,
            "wait_interval": 0
          },
          "base_uri": "https://localhost:8080/",
          "height": 204
        },
        "outputId": "5f3871a0-c916-4900-9538-51e79c87a25f",
        "executionInfo": {
          "status": "ok",
          "timestamp": 1527710396433,
          "user_tz": -330,
          "elapsed": 1090,
          "user": {
            "displayName": "Aman Pradham",
            "photoUrl": "https://lh3.googleusercontent.com/a/default-user=s128",
            "userId": "103750579180603243774"
          }
        }
      },
      "cell_type": "code",
      "source": [
        "run_kfold(clf)"
      ],
      "execution_count": 25,
      "outputs": [
        {
          "output_type": "stream",
          "text": [
            "Fold 1 accuracy: 0.5888888888888889\n",
            "Fold 2 accuracy: 0.550561797752809\n",
            "Fold 3 accuracy: 0.5842696629213483\n",
            "Fold 4 accuracy: 0.6067415730337079\n",
            "Fold 5 accuracy: 0.6292134831460674\n",
            "Fold 6 accuracy: 0.5842696629213483\n",
            "Fold 7 accuracy: 0.6292134831460674\n",
            "Fold 8 accuracy: 0.4606741573033708\n",
            "Fold 9 accuracy: 0.38202247191011235\n",
            "Fold 10 accuracy: 0.4044943820224719\n",
            "Mean Accuracy: 0.5420349563046192\n"
          ],
          "name": "stdout"
        }
      ]
    },
    {
      "metadata": {
        "id": "3ck0ZoHFoOhv",
        "colab_type": "code",
        "colab": {
          "autoexec": {
            "startup": false,
            "wait_interval": 0
          }
        }
      },
      "cell_type": "code",
      "source": [
        ""
      ],
      "execution_count": 0,
      "outputs": []
    },
    {
      "metadata": {
        "id": "OxxCkUbHpfwc",
        "colab_type": "code",
        "colab": {
          "autoexec": {
            "startup": false,
            "wait_interval": 0
          },
          "base_uri": "https://localhost:8080/",
          "height": 268
        },
        "outputId": "724c4c26-55d7-4d4e-ce19-c2b6cd98c5da",
        "executionInfo": {
          "status": "error",
          "timestamp": 1527711251978,
          "user_tz": -330,
          "elapsed": 15384,
          "user": {
            "displayName": "Aman Pradham",
            "photoUrl": "https://lh3.googleusercontent.com/a/default-user=s128",
            "userId": "103750579180603243774"
          }
        }
      },
      "cell_type": "code",
      "source": [
        "from sklearn import ensemble, grid_search\n",
        "clf = ensemble.ExtraTreesClassifier()\n",
        "\n",
        "clf.fit(X_train, y_train)\n",
        "acc_test = clf.score(X_test, y_test)\n",
        "\n",
        "print (\"Test Accuracy:\", acc_test)\n"
      ],
      "execution_count": 36,
      "outputs": [
        {
          "output_type": "stream",
          "text": [
            "/usr/local/lib/python3.6/dist-packages/sklearn/grid_search.py:42: DeprecationWarning: This module was deprecated in version 0.18 in favor of the model_selection module into which all the refactored classes and functions are moved. This module will be removed in 0.20.\n",
            "  DeprecationWarning)\n"
          ],
          "name": "stderr"
        },
        {
          "output_type": "error",
          "ename": "NameError",
          "evalue": "ignored",
          "traceback": [
            "\u001b[0;31m---------------------------------------------------------------------------\u001b[0m",
            "\u001b[0;31mNameError\u001b[0m                                 Traceback (most recent call last)",
            "\u001b[0;32m<ipython-input-36-7e126a8c2796>\u001b[0m in \u001b[0;36m<module>\u001b[0;34m()\u001b[0m\n\u001b[1;32m      7\u001b[0m \u001b[0mgrid\u001b[0m \u001b[0;34m=\u001b[0m \u001b[0mgrid_search\u001b[0m\u001b[0;34m.\u001b[0m\u001b[0mGridSearchCV\u001b[0m\u001b[0;34m(\u001b[0m\u001b[0mclf\u001b[0m\u001b[0;34m,\u001b[0m \u001b[0mparam\u001b[0m\u001b[0;34m)\u001b[0m\u001b[0;34m\u001b[0m\u001b[0m\n\u001b[1;32m      8\u001b[0m \u001b[0;34m\u001b[0m\u001b[0m\n\u001b[0;32m----> 9\u001b[0;31m \u001b[0my_predc\u001b[0m \u001b[0;34m=\u001b[0m \u001b[0mcross_validate_with_scaling\u001b[0m\u001b[0;34m(\u001b[0m\u001b[0mX_test\u001b[0m\u001b[0;34m,\u001b[0m \u001b[0my_test\u001b[0m\u001b[0;34m,\u001b[0m \u001b[0mgrid\u001b[0m\u001b[0;34m,\u001b[0m \u001b[0mfolds\u001b[0m\u001b[0;34m)\u001b[0m\u001b[0;34m\u001b[0m\u001b[0m\n\u001b[0m\u001b[1;32m     10\u001b[0m \u001b[0mprint\u001b[0m\u001b[0;34m(\u001b[0m\u001b[0mgrid\u001b[0m\u001b[0;34m.\u001b[0m\u001b[0mbest_params_\u001b[0m\u001b[0;34m)\u001b[0m\u001b[0;34m\u001b[0m\u001b[0m\n",
            "\u001b[0;31mNameError\u001b[0m: name 'cross_validate_with_scaling' is not defined"
          ]
        }
      ]
    },
    {
      "metadata": {
        "id": "nTGKttHqqJp9",
        "colab_type": "code",
        "colab": {
          "autoexec": {
            "startup": false,
            "wait_interval": 0
          }
        }
      },
      "cell_type": "code",
      "source": [
        ""
      ],
      "execution_count": 0,
      "outputs": []
    },
    {
      "metadata": {
        "id": "nGnvQ6Gvq59f",
        "colab_type": "code",
        "colab": {
          "autoexec": {
            "startup": false,
            "wait_interval": 0
          },
          "base_uri": "https://localhost:8080/",
          "height": 136
        },
        "outputId": "5f1f6c2a-dae7-4c27-d1b3-b58dbd123412",
        "executionInfo": {
          "status": "ok",
          "timestamp": 1527711041504,
          "user_tz": -330,
          "elapsed": 43458,
          "user": {
            "displayName": "Aman Pradham",
            "photoUrl": "https://lh3.googleusercontent.com/a/default-user=s128",
            "userId": "103750579180603243774"
          }
        }
      },
      "cell_type": "code",
      "source": [
        "from sklearn.ensemble import RandomForestClassifier\n",
        "\n",
        "# initialize\n",
        "clf = RandomForestClassifier()\n",
        "\n",
        "# train the classifier using the training data\n",
        "clf.fit(X_train, y_train)"
      ],
      "execution_count": 32,
      "outputs": [
        {
          "output_type": "execute_result",
          "data": {
            "text/plain": [
              "RandomForestClassifier(bootstrap=True, class_weight=None, criterion='gini',\n",
              "            max_depth=None, max_features='auto', max_leaf_nodes=None,\n",
              "            min_impurity_decrease=0.0, min_impurity_split=None,\n",
              "            min_samples_leaf=1, min_samples_split=2,\n",
              "            min_weight_fraction_leaf=0.0, n_estimators=10, n_jobs=1,\n",
              "            oob_score=False, random_state=None, verbose=0,\n",
              "            warm_start=False)"
            ]
          },
          "metadata": {
            "tags": []
          },
          "execution_count": 32
        }
      ]
    },
    {
      "metadata": {
        "id": "nlNgXb_Sq93M",
        "colab_type": "code",
        "colab": {
          "autoexec": {
            "startup": false,
            "wait_interval": 0
          },
          "base_uri": "https://localhost:8080/",
          "height": 34
        },
        "outputId": "2fa3496c-5505-42b5-e507-ad7659aca4eb",
        "executionInfo": {
          "status": "ok",
          "timestamp": 1527711087906,
          "user_tz": -330,
          "elapsed": 2551,
          "user": {
            "displayName": "Aman Pradham",
            "photoUrl": "https://lh3.googleusercontent.com/a/default-user=s128",
            "userId": "103750579180603243774"
          }
        }
      },
      "cell_type": "code",
      "source": [
        "acc_test = clf.score(X_test, y_test)\n",
        "\n",
        "print (\"Test Accuracy:\", acc_test)"
      ],
      "execution_count": 34,
      "outputs": [
        {
          "output_type": "stream",
          "text": [
            "Test Accuracy: 0.5957969767727663\n"
          ],
          "name": "stdout"
        }
      ]
    },
    {
      "metadata": {
        "id": "Za3lFYCWrQ-f",
        "colab_type": "code",
        "colab": {
          "autoexec": {
            "startup": false,
            "wait_interval": 0
          }
        }
      },
      "cell_type": "code",
      "source": [
        "from sklearn.svm import SVC\n",
        "clf = SVC()\n",
        "clf.fit(X_train, y_train)\n",
        "acc_test = clf.score(X_test, y_test)\n",
        "\n",
        "print (\"Test Accuracy:\", acc_test)"
      ],
      "execution_count": 0,
      "outputs": []
    },
    {
      "metadata": {
        "id": "CcCch30Bs1QF",
        "colab_type": "code",
        "colab": {
          "autoexec": {
            "startup": false,
            "wait_interval": 0
          }
        }
      },
      "cell_type": "code",
      "source": [
        ""
      ],
      "execution_count": 0,
      "outputs": []
    }
  ]
}